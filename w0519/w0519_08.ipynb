{
 "cells": [
  {
   "cell_type": "code",
   "execution_count": 5,
   "id": "6162ec82",
   "metadata": {},
   "outputs": [
    {
     "name": "stderr",
     "output_type": "stream",
     "text": [
      "c:\\python3\\Lib\\site-packages\\openpyxl\\styles\\stylesheet.py:237: UserWarning: Workbook contains no default style, apply openpyxl's default\n",
      "  warn(\"Workbook contains no default style, apply openpyxl's default\")\n",
      "c:\\python3\\Lib\\site-packages\\openpyxl\\styles\\stylesheet.py:237: UserWarning: Workbook contains no default style, apply openpyxl's default\n",
      "  warn(\"Workbook contains no default style, apply openpyxl's default\")\n",
      "c:\\python3\\Lib\\site-packages\\openpyxl\\styles\\stylesheet.py:237: UserWarning: Workbook contains no default style, apply openpyxl's default\n",
      "  warn(\"Workbook contains no default style, apply openpyxl's default\")\n"
     ]
    },
    {
     "data": {
      "text/html": [
       "<div>\n",
       "<style scoped>\n",
       "    .dataframe tbody tr th:only-of-type {\n",
       "        vertical-align: middle;\n",
       "    }\n",
       "\n",
       "    .dataframe tbody tr th {\n",
       "        vertical-align: top;\n",
       "    }\n",
       "\n",
       "    .dataframe thead th {\n",
       "        text-align: right;\n",
       "    }\n",
       "</style>\n",
       "<table border=\"1\" class=\"dataframe\">\n",
       "  <thead>\n",
       "    <tr style=\"text-align: right;\">\n",
       "      <th></th>\n",
       "      <th>0~9세.2</th>\n",
       "      <th>10~19세.2</th>\n",
       "      <th>20~29세.2</th>\n",
       "      <th>30~39세.2</th>\n",
       "      <th>40~49세.2</th>\n",
       "      <th>50~59세.2</th>\n",
       "      <th>60~69세.2</th>\n",
       "      <th>70~79세.2</th>\n",
       "      <th>80~89세.2</th>\n",
       "      <th>90~99세.2</th>\n",
       "      <th>100세 이상.2</th>\n",
       "    </tr>\n",
       "    <tr>\n",
       "      <th>행정기관</th>\n",
       "      <th></th>\n",
       "      <th></th>\n",
       "      <th></th>\n",
       "      <th></th>\n",
       "      <th></th>\n",
       "      <th></th>\n",
       "      <th></th>\n",
       "      <th></th>\n",
       "      <th></th>\n",
       "      <th></th>\n",
       "      <th></th>\n",
       "    </tr>\n",
       "  </thead>\n",
       "  <tbody>\n",
       "    <tr>\n",
       "      <th>전국</th>\n",
       "      <td>1,531,058</td>\n",
       "      <td>2,245,507</td>\n",
       "      <td>2,855,132</td>\n",
       "      <td>3,166,585</td>\n",
       "      <td>3,796,703</td>\n",
       "      <td>4,315,099</td>\n",
       "      <td>3,968,224</td>\n",
       "      <td>2,254,795</td>\n",
       "      <td>1,326,374</td>\n",
       "      <td>252,368</td>\n",
       "      <td>7,052</td>\n",
       "    </tr>\n",
       "  </tbody>\n",
       "</table>\n",
       "</div>"
      ],
      "text/plain": [
       "         0~9세.2   10~19세.2   20~29세.2   30~39세.2   40~49세.2   50~59세.2  \\\n",
       "행정기관                                                                     \n",
       "전국    1,531,058  2,245,507  2,855,132  3,166,585  3,796,703  4,315,099   \n",
       "\n",
       "       60~69세.2   70~79세.2   80~89세.2 90~99세.2 100세 이상.2  \n",
       "행정기관                                                      \n",
       "전국    3,968,224  2,254,795  1,326,374  252,368     7,052  "
      ]
     },
     "execution_count": 5,
     "metadata": {},
     "output_type": "execute_result"
    }
   ],
   "source": [
    "import pandas as pd\n",
    "\n",
    "df = pd.read_excel(\"data/202412_202412_연령별인구현황_연간.xlsx\",skiprows=3,usecols='B,E:O',index_col=\"행정기관\",nrows=1)\n",
    "df\n",
    "\n",
    "m_df = pd.read_excel(\"data/202412_202412_연령별인구현황_연간.xlsx\",skiprows=3,usecols='B,R:AB',index_col=\"행정기관\",nrows=1)\n",
    "m_df\n",
    "\n",
    "w_df = pd.read_excel(\"data/202412_202412_연령별인구현황_연간.xlsx\",skiprows=3,usecols='B,AE:AO',index_col=\"행정기관\",nrows=1)\n",
    "w_df"
   ]
  },
  {
   "cell_type": "code",
   "execution_count": 8,
   "id": "913ad3b8",
   "metadata": {},
   "outputs": [
    {
     "data": {
      "text/plain": [
       "Index(['0~9세', '10~19세', '20~29세', '30~39세', '40~49세', '50~59세', '60~69세',\n",
       "       '70~79세', '80~89세', '90~99세', '100세 이상'],\n",
       "      dtype='object')"
      ]
     },
     "execution_count": 8,
     "metadata": {},
     "output_type": "execute_result"
    }
   ],
   "source": [
    "df.columns\n",
    "m_df.columns\n",
    "w_df.columns\n",
    "\n",
    "df['0~9세']\n",
    "# m_df['0~9세.1']\n",
    "# w_df['0~9세.2']\n",
    "\n",
    "df.columns \n",
    "\n",
    "m_df.columns = df.columns \n",
    "w_df.columns = df.columns \n",
    "\n",
    "w_df.columns"
   ]
  },
  {
   "cell_type": "code",
   "execution_count": 10,
   "id": "a5f1716f",
   "metadata": {},
   "outputs": [
    {
     "data": {
      "text/plain": [
       "행정기관\n",
       "전국      1,531,058\n",
       "Name: 0~9세, dtype: object"
      ]
     },
     "execution_count": 10,
     "metadata": {},
     "output_type": "execute_result"
    }
   ],
   "source": [
    "df['0~9세']\n",
    "m_df['0~9세']\n",
    "w_df['0~9세']"
   ]
  },
  {
   "cell_type": "code",
   "execution_count": 11,
   "id": "9feff6b2",
   "metadata": {},
   "outputs": [
    {
     "name": "stdout",
     "output_type": "stream",
     "text": [
      "<class 'pandas.core.frame.DataFrame'>\n",
      "Index: 1 entries, 전국   to 전국  \n",
      "Data columns (total 11 columns):\n",
      " #   Column   Non-Null Count  Dtype \n",
      "---  ------   --------------  ----- \n",
      " 0   0~9세     1 non-null      object\n",
      " 1   10~19세   1 non-null      object\n",
      " 2   20~29세   1 non-null      object\n",
      " 3   30~39세   1 non-null      object\n",
      " 4   40~49세   1 non-null      object\n",
      " 5   50~59세   1 non-null      object\n",
      " 6   60~69세   1 non-null      object\n",
      " 7   70~79세   1 non-null      object\n",
      " 8   80~89세   1 non-null      object\n",
      " 9   90~99세   1 non-null      object\n",
      " 10  100세 이상  1 non-null      object\n",
      "dtypes: object(11)\n",
      "memory usage: 204.0+ bytes\n",
      "<class 'pandas.core.frame.DataFrame'>\n",
      "Index: 1 entries, 전국   to 전국  \n",
      "Data columns (total 11 columns):\n",
      " #   Column   Non-Null Count  Dtype \n",
      "---  ------   --------------  ----- \n",
      " 0   0~9세     1 non-null      int64 \n",
      " 1   10~19세   1 non-null      object\n",
      " 2   20~29세   1 non-null      object\n",
      " 3   30~39세   1 non-null      object\n",
      " 4   40~49세   1 non-null      object\n",
      " 5   50~59세   1 non-null      object\n",
      " 6   60~69세   1 non-null      object\n",
      " 7   70~79세   1 non-null      object\n",
      " 8   80~89세   1 non-null      object\n",
      " 9   90~99세   1 non-null      object\n",
      " 10  100세 이상  1 non-null      object\n",
      "dtypes: int64(1), object(10)\n",
      "memory usage: 204.0+ bytes\n"
     ]
    }
   ],
   "source": [
    "df.describe()\n",
    "df.info()\n",
    "# df['0~9세']=df['0~9세'].str.replace(\",\",\"\")\n",
    "# df['0~9세']=df['0~9세'].astype(int)\n",
    "df['0~9세']=df['0~9세'].str.replace(\",\",\"\").astype(int)\n",
    "df.info()\n",
    "\n"
   ]
  },
  {
   "cell_type": "code",
   "execution_count": null,
   "id": "806efbbd",
   "metadata": {},
   "outputs": [
    {
     "data": {
      "text/plain": [
       "Index(['0~9세', '10~19세', '20~29세', '30~39세', '40~49세', '50~59세', '60~69세',\n",
       "       '70~79세', '80~89세', '90~99세', '100세 이상'],\n",
       "      dtype='object')"
      ]
     },
     "execution_count": 12,
     "metadata": {},
     "output_type": "execute_result"
    }
   ],
   "source": [
    "df.columns\n",
    "df['10~19세']=df['10~19세'].str.replace(\",\",\"\").astype(int)"
   ]
  }
 ],
 "metadata": {
  "kernelspec": {
   "display_name": "Python 3",
   "language": "python",
   "name": "python3"
  },
  "language_info": {
   "codemirror_mode": {
    "name": "ipython",
    "version": 3
   },
   "file_extension": ".py",
   "mimetype": "text/x-python",
   "name": "python",
   "nbconvert_exporter": "python",
   "pygments_lexer": "ipython3",
   "version": "3.13.2"
  }
 },
 "nbformat": 4,
 "nbformat_minor": 5
}
