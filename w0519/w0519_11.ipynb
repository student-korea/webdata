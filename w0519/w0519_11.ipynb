{
 "cells": [
  {
   "cell_type": "code",
   "execution_count": null,
   "id": "a278062f",
   "metadata": {},
   "outputs": [],
   "source": [
    "import pandas as pd\n",
    "df=pd.read_excel('data/score.xlsx',index_col='지원번호')"
   ]
  },
  {
   "cell_type": "code",
   "execution_count": null,
   "id": "43152349",
   "metadata": {},
   "outputs": [],
   "source": [
    "df['이름']\n",
    "df[['이름','학교']]\n",
    "df.columns\n",
    "df.columns[0]\n",
    "df[df.columns[0]]"
   ]
  },
  {
   "cell_type": "code",
   "execution_count": null,
   "id": "0e8dd916",
   "metadata": {},
   "outputs": [],
   "source": [
    "df.loc['1번']\n",
    "df.loc[['1번','2번']] #df[1:3]\n",
    "df.loc['1번']['이름']\n",
    "df.loc[['1번','2번','3번']]['이름']\n",
    "df.loc[['1번','2번']['국어''영어']]"
   ]
  }
 ],
 "metadata": {
  "language_info": {
   "name": "python"
  }
 },
 "nbformat": 4,
 "nbformat_minor": 5
}
