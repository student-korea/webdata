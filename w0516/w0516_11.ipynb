{
 "cells": [
  {
   "cell_type": "code",
   "execution_count": 24,
   "id": "09110141",
   "metadata": {},
   "outputs": [],
   "source": [
    "import requests\n",
    "from bs4 import BeautifulSoup\n",
    "from selenium import webdriver\n",
    "from selenium.webdriver.common.keys import Keys\n",
    "from selenium.webdriver.common.by import By\n",
    "from selenium.webdriver.chrome.service import Service\n",
    "from selenium.webdriver.chrome.options import Options\n",
    "from selenium.webdriver.support.ui import WebDriverWait\n",
    "from selenium.webdriver.support import expected_conditions as EC\n",
    "\n",
    "import csv\n",
    "import time\n",
    "import random\n",
    "import pyautogui\n",
    "\n",
    "## 메일관련 import\n",
    "import smtplib\n",
    "from email.mime.text import MIMEText\n",
    "from email.mime.multipart import MIMEMultipart\n",
    "from email.mime.base import MIMEBase \n",
    "from email import encoders\n",
    "import pandas as pd\n",
    "\n",
    "options = Options()\n",
    "options.add_argument(\"--disable-blink-features=AutomationControlled\")  # 자동화 티 안 나게\n",
    "options.add_argument(\"start-maximized\")\n",
    "options.add_argument(\"user-agent=Mozilla/5.0 (Windows NT 10.0; Win64; x64) AppleWebKit/537.36 (KHTML, like Gecko) Chrome/123.0.0.0 Safari/537.36\")\n",
    "options.add_experimental_option(\"excludeSwitches\", [\"enable-automation\"])\n",
    "options.add_experimental_option('useAutomationExtension', False)"
   ]
  },
  {
   "cell_type": "code",
   "execution_count": 25,
   "id": "d798697f",
   "metadata": {},
   "outputs": [],
   "source": [
    "browser = webdriver.Chrome(options=options)\n",
    "browser.maximize_window() # 창 최대화"
   ]
  },
  {
   "cell_type": "code",
   "execution_count": 36,
   "id": "5a9e275a",
   "metadata": {},
   "outputs": [
    {
     "data": {
      "text/plain": [
       "13"
      ]
     },
     "execution_count": 36,
     "metadata": {},
     "output_type": "execute_result"
    }
   ],
   "source": [
    "f = open('movie.csv','w',encoding='utf-8-sig',newline='')\n",
    "writer = csv.writer(f)\n",
    "sub = ['영화제목','개봉일','평점']\n",
    "writer.writerow(sub)"
   ]
  },
  {
   "cell_type": "code",
   "execution_count": 37,
   "id": "53762420",
   "metadata": {},
   "outputs": [],
   "source": [
    "url = \"https://search.naver.com/search.naver?where=nexearch&sm=tab_etc&qvt=0&query=%EC%9B%94%EB%B3%84%EA%B0%9C%EB%B4%89%EC%98%81%ED%99%94\"\n",
    "browser.get(url)\n",
    "time.sleep(2)"
   ]
  },
  {
   "cell_type": "code",
   "execution_count": 38,
   "id": "1cf8562d",
   "metadata": {},
   "outputs": [],
   "source": [
    "browser.find_element(By.XPATH,'//*[@id=\"main_pack\"]/div[3]/div[2]/div/div/div/div[1]/div[3]/div/div/ul[2]/li[1]/a/span').click()\n",
    "time.sleep(2)"
   ]
  },
  {
   "cell_type": "code",
   "execution_count": 39,
   "id": "27a9e9ea",
   "metadata": {},
   "outputs": [],
   "source": [
    "soup = BeautifulSoup(browser.page_source,\"lxml\")\n",
    "count = soup.find(\"span\",{\"class\":\"_total\"}).get_text()\n",
    "data = soup.find_all(\"div\",{\"class\":\"data_box\"})\n",
    "for i in range(int(count)):\n",
    "    soup = BeautifulSoup(browser.page_source,\"lxml\")\n",
    "    data = soup.find_all(\"div\",{\"class\":\"data_box\"})\n",
    "    for da in data:\n",
    "        title = da.find(\"div\",{\"class\":\"area_text_box\"}).get_text().replace(\"\\n\",\"\")\n",
    "        day = da.find(\"dl\",{\"class\":\"info_group type_visible\"})\n",
    "        day1 = day.find_all(\"dd\")\n",
    "        day2 = day1[0].get_text()\n",
    "        if len(day1) != 1:\n",
    "            rating = day1[1].get_text()\n",
    "        else:\n",
    "            rating = None\n",
    "        writer.writerow([title,day2,rating])\n",
    "    if i == 7:\n",
    "        break\n",
    "    browser.find_element(By.XPATH,'//*[@id=\"main_pack\"]/div[3]/div[2]/div/div/div/div[2]/div[4]/div/a[2]').click()\n",
    "    time.sleep(2)\n",
    "f.close()"
   ]
  },
  {
   "cell_type": "code",
   "execution_count": 40,
   "id": "c24f0f72",
   "metadata": {},
   "outputs": [
    {
     "data": {
      "text/html": [
       "<div>\n",
       "<style scoped>\n",
       "    .dataframe tbody tr th:only-of-type {\n",
       "        vertical-align: middle;\n",
       "    }\n",
       "\n",
       "    .dataframe tbody tr th {\n",
       "        vertical-align: top;\n",
       "    }\n",
       "\n",
       "    .dataframe thead th {\n",
       "        text-align: right;\n",
       "    }\n",
       "</style>\n",
       "<table border=\"1\" class=\"dataframe\">\n",
       "  <thead>\n",
       "    <tr style=\"text-align: right;\">\n",
       "      <th></th>\n",
       "      <th>영화제목</th>\n",
       "      <th>개봉일</th>\n",
       "      <th>평점</th>\n",
       "    </tr>\n",
       "  </thead>\n",
       "  <tbody>\n",
       "    <tr>\n",
       "      <th>0</th>\n",
       "      <td>더 퍼스트 슬램덩크</td>\n",
       "      <td>2025.01.04.</td>\n",
       "      <td>9.25</td>\n",
       "    </tr>\n",
       "    <tr>\n",
       "      <th>1</th>\n",
       "      <td>해리 포터와 죽음의 성물 2</td>\n",
       "      <td>2025.01.15.</td>\n",
       "      <td>9.17</td>\n",
       "    </tr>\n",
       "    <tr>\n",
       "      <th>2</th>\n",
       "      <td>검은 수녀들</td>\n",
       "      <td>2025.01.24.</td>\n",
       "      <td>6.44</td>\n",
       "    </tr>\n",
       "    <tr>\n",
       "      <th>3</th>\n",
       "      <td>히트맨2</td>\n",
       "      <td>2025.01.22.</td>\n",
       "      <td>7.44</td>\n",
       "    </tr>\n",
       "    <tr>\n",
       "      <th>4</th>\n",
       "      <td>러브레터</td>\n",
       "      <td>2025.01.01.</td>\n",
       "      <td>9.32</td>\n",
       "    </tr>\n",
       "    <tr>\n",
       "      <th>...</th>\n",
       "      <td>...</td>\n",
       "      <td>...</td>\n",
       "      <td>...</td>\n",
       "    </tr>\n",
       "    <tr>\n",
       "      <th>59</th>\n",
       "      <td>은혼 가시아귀편 온 씨어터</td>\n",
       "      <td>2025.01.24.</td>\n",
       "      <td>10.00</td>\n",
       "    </tr>\n",
       "    <tr>\n",
       "      <th>60</th>\n",
       "      <td>하이퍼 프로젝션 연극 하이큐!!</td>\n",
       "      <td>2025.01.24.</td>\n",
       "      <td>10.00</td>\n",
       "    </tr>\n",
       "    <tr>\n",
       "      <th>61</th>\n",
       "      <td>렌탈보이</td>\n",
       "      <td>2025.01.24.</td>\n",
       "      <td>NaN</td>\n",
       "    </tr>\n",
       "    <tr>\n",
       "      <th>62</th>\n",
       "      <td>죽은 시인의 사회</td>\n",
       "      <td>2025.01.27.</td>\n",
       "      <td>9.32</td>\n",
       "    </tr>\n",
       "    <tr>\n",
       "      <th>63</th>\n",
       "      <td>1944 레지스탕스</td>\n",
       "      <td>2025.01.30.</td>\n",
       "      <td>NaN</td>\n",
       "    </tr>\n",
       "  </tbody>\n",
       "</table>\n",
       "<p>64 rows × 3 columns</p>\n",
       "</div>"
      ],
      "text/plain": [
       "                 영화제목          개봉일     평점\n",
       "0          더 퍼스트 슬램덩크  2025.01.04.   9.25\n",
       "1     해리 포터와 죽음의 성물 2  2025.01.15.   9.17\n",
       "2              검은 수녀들  2025.01.24.   6.44\n",
       "3                히트맨2  2025.01.22.   7.44\n",
       "4                러브레터  2025.01.01.   9.32\n",
       "..                ...          ...    ...\n",
       "59     은혼 가시아귀편 온 씨어터  2025.01.24.  10.00\n",
       "60  하이퍼 프로젝션 연극 하이큐!!  2025.01.24.  10.00\n",
       "61               렌탈보이  2025.01.24.    NaN\n",
       "62          죽은 시인의 사회  2025.01.27.   9.32\n",
       "63         1944 레지스탕스  2025.01.30.    NaN\n",
       "\n",
       "[64 rows x 3 columns]"
      ]
     },
     "execution_count": 40,
     "metadata": {},
     "output_type": "execute_result"
    }
   ],
   "source": [
    "df = pd.read_csv('movie.csv')\n",
    "df"
   ]
  },
  {
   "cell_type": "code",
   "execution_count": 41,
   "id": "2996b4de",
   "metadata": {},
   "outputs": [
    {
     "name": "stdout",
     "output_type": "stream",
     "text": [
      "최고 평점 : 10.0\n",
      "최저 평점 : 1.0\n",
      "평점 평균 : 8.03639344262295\n"
     ]
    }
   ],
   "source": [
    "max_rating = df['평점'].max()\n",
    "min_rating = df['평점'].min()\n",
    "avg_rating = df['평점'].mean()\n",
    "\n",
    "print(f\"최고 평점 : {max_rating}\")\n",
    "print(f\"최저 평점 : {min_rating}\")\n",
    "print(f\"평점 평균 : {avg_rating}\")"
   ]
  }
 ],
 "metadata": {
  "kernelspec": {
   "display_name": "Python 3",
   "language": "python",
   "name": "python3"
  },
  "language_info": {
   "codemirror_mode": {
    "name": "ipython",
    "version": 3
   },
   "file_extension": ".py",
   "mimetype": "text/x-python",
   "name": "python",
   "nbconvert_exporter": "python",
   "pygments_lexer": "ipython3",
   "version": "3.13.2"
  }
 },
 "nbformat": 4,
 "nbformat_minor": 5
}
