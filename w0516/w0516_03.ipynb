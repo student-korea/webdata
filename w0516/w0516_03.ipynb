{
 "cells": [
  {
   "cell_type": "markdown",
   "id": "f19ffbb4",
   "metadata": {},
   "source": [
    "*Series 1차원 데이터"
   ]
  },
  {
   "cell_type": "code",
   "execution_count": null,
   "id": "7376990c",
   "metadata": {},
   "outputs": [
    {
     "name": "stdout",
     "output_type": "stream",
     "text": [
      "-1\n",
      "0   -20\n",
      "1   -10\n",
      "2    -1\n",
      "3    20\n",
      "dtype: int64\n"
     ]
    }
   ],
   "source": [
    "import pandas as pd\n",
    "\n",
    "# 1차원 데이터\n",
    "a_list = [-20,-10,10,20]\n",
    "temp = pd.Series(a_list)  # 리스트타입 -> 1차원 Series타입 변환\n",
    "temp[0]\n",
    "print(temp[2])\n",
    "temp   # index,column"
   ]
  },
  {
   "cell_type": "code",
   "execution_count": null,
   "id": "d0553aab",
   "metadata": {},
   "outputs": [
    {
     "ename": "ValueError",
     "evalue": "Length of values (4) does not match length of index (5)",
     "output_type": "error",
     "traceback": [
      "\u001b[31m---------------------------------------------------------------------------\u001b[39m",
      "\u001b[31mValueError\u001b[39m                                Traceback (most recent call last)",
      "\u001b[36mCell\u001b[39m\u001b[36m \u001b[39m\u001b[32mIn[7]\u001b[39m\u001b[32m, line 1\u001b[39m\n\u001b[32m----> \u001b[39m\u001b[32m1\u001b[39m temp =\u001b[43mpd\u001b[49m\u001b[43m.\u001b[49m\u001b[43mSeries\u001b[49m\u001b[43m(\u001b[49m\u001b[43ma_list\u001b[49m\u001b[43m,\u001b[49m\u001b[43mindex\u001b[49m\u001b[43m=\u001b[49m\u001b[43m[\u001b[49m\u001b[33;43m'\u001b[39;49m\u001b[33;43m1월\u001b[39;49m\u001b[33;43m'\u001b[39;49m\u001b[43m,\u001b[49m\u001b[33;43m'\u001b[39;49m\u001b[33;43m2월\u001b[39;49m\u001b[33;43m'\u001b[39;49m\u001b[43m,\u001b[49m\u001b[33;43m'\u001b[39;49m\u001b[33;43m3월\u001b[39;49m\u001b[33;43m'\u001b[39;49m\u001b[43m,\u001b[49m\u001b[33;43m'\u001b[39;49m\u001b[33;43m4월\u001b[39;49m\u001b[33;43m'\u001b[39;49m\u001b[43m,\u001b[49m\u001b[33;43m'\u001b[39;49m\u001b[33;43m5월\u001b[39;49m\u001b[33;43m'\u001b[39;49m\u001b[43m]\u001b[49m\u001b[43m)\u001b[49m\n",
      "\u001b[36mFile \u001b[39m\u001b[32mc:\\python3\\Lib\\site-packages\\pandas\\core\\series.py:575\u001b[39m, in \u001b[36mSeries.__init__\u001b[39m\u001b[34m(self, data, index, dtype, name, copy, fastpath)\u001b[39m\n\u001b[32m    573\u001b[39m     index = default_index(\u001b[38;5;28mlen\u001b[39m(data))\n\u001b[32m    574\u001b[39m \u001b[38;5;28;01melif\u001b[39;00m is_list_like(data):\n\u001b[32m--> \u001b[39m\u001b[32m575\u001b[39m     \u001b[43mcom\u001b[49m\u001b[43m.\u001b[49m\u001b[43mrequire_length_match\u001b[49m\u001b[43m(\u001b[49m\u001b[43mdata\u001b[49m\u001b[43m,\u001b[49m\u001b[43m \u001b[49m\u001b[43mindex\u001b[49m\u001b[43m)\u001b[49m\n\u001b[32m    577\u001b[39m \u001b[38;5;66;03m# create/copy the manager\u001b[39;00m\n\u001b[32m    578\u001b[39m \u001b[38;5;28;01mif\u001b[39;00m \u001b[38;5;28misinstance\u001b[39m(data, (SingleBlockManager, SingleArrayManager)):\n",
      "\u001b[36mFile \u001b[39m\u001b[32mc:\\python3\\Lib\\site-packages\\pandas\\core\\common.py:573\u001b[39m, in \u001b[36mrequire_length_match\u001b[39m\u001b[34m(data, index)\u001b[39m\n\u001b[32m    569\u001b[39m \u001b[38;5;250m\u001b[39m\u001b[33;03m\"\"\"\u001b[39;00m\n\u001b[32m    570\u001b[39m \u001b[33;03mCheck the length of data matches the length of the index.\u001b[39;00m\n\u001b[32m    571\u001b[39m \u001b[33;03m\"\"\"\u001b[39;00m\n\u001b[32m    572\u001b[39m \u001b[38;5;28;01mif\u001b[39;00m \u001b[38;5;28mlen\u001b[39m(data) != \u001b[38;5;28mlen\u001b[39m(index):\n\u001b[32m--> \u001b[39m\u001b[32m573\u001b[39m     \u001b[38;5;28;01mraise\u001b[39;00m \u001b[38;5;167;01mValueError\u001b[39;00m(\n\u001b[32m    574\u001b[39m         \u001b[33m\"\u001b[39m\u001b[33mLength of values \u001b[39m\u001b[33m\"\u001b[39m\n\u001b[32m    575\u001b[39m         \u001b[33mf\u001b[39m\u001b[33m\"\u001b[39m\u001b[33m(\u001b[39m\u001b[38;5;132;01m{\u001b[39;00m\u001b[38;5;28mlen\u001b[39m(data)\u001b[38;5;132;01m}\u001b[39;00m\u001b[33m) \u001b[39m\u001b[33m\"\u001b[39m\n\u001b[32m    576\u001b[39m         \u001b[33m\"\u001b[39m\u001b[33mdoes not match length of index \u001b[39m\u001b[33m\"\u001b[39m\n\u001b[32m    577\u001b[39m         \u001b[33mf\u001b[39m\u001b[33m\"\u001b[39m\u001b[33m(\u001b[39m\u001b[38;5;132;01m{\u001b[39;00m\u001b[38;5;28mlen\u001b[39m(index)\u001b[38;5;132;01m}\u001b[39;00m\u001b[33m)\u001b[39m\u001b[33m\"\u001b[39m\n\u001b[32m    578\u001b[39m     )\n",
      "\u001b[31mValueError\u001b[39m: Length of values (4) does not match length of index (5)"
     ]
    }
   ],
   "source": [
    "### Series index지정하는 방법\n",
    "temp = pd.Series(a_list,index=['1월','2월','3월','4월'])\n",
    "temp\n",
    "print(temp['1월'])\n",
    "print(temp['4월'])"
   ]
  },
  {
   "cell_type": "code",
   "execution_count": null,
   "id": "315f0500",
   "metadata": {},
   "outputs": [],
   "source": [
    "# index개수가 틀리면 에러처리\n",
    "# temp = pd.Series(a_list,index=['1월','2월','3월','4월','5월'])\n",
    "temp = pd.Series(a_list,index=['1월','2월','3월','4월'])\n",
    "temp "
   ]
  },
  {
   "cell_type": "code",
   "execution_count": null,
   "id": "d96408df",
   "metadata": {},
   "outputs": [],
   "source": [
    "## dict타입 형태\n",
    "data = {\n",
    "    '번호':['1번','2번','3번','4번','5번'],\n",
    "    '이름':['홍길동','유관순','이순신','강감찬','김구'],\n",
    "    '합계':[300,299,250,270,297]\n",
    "}\n",
    "data"
   ]
  },
  {
   "cell_type": "code",
   "execution_count": null,
   "id": "e8d4ff64",
   "metadata": {},
   "outputs": [],
   "source": [
    "## 딕셔너리 타입 구현\n",
    "data['이름']\n",
    "data['합계']"
   ]
  },
  {
   "cell_type": "code",
   "execution_count": null,
   "id": "4657a7a2",
   "metadata": {},
   "outputs": [],
   "source": [
    "## pandas DataFrame 형태로 변경\n",
    "df = pd.DataFrame(data)\n",
    "df"
   ]
  },
  {
   "cell_type": "code",
   "execution_count": null,
   "id": "f5907d5b",
   "metadata": {},
   "outputs": [],
   "source": [
    "df['이름']\n",
    "df['합계']"
   ]
  },
  {
   "cell_type": "code",
   "execution_count": null,
   "id": "20b6ec0c",
   "metadata": {},
   "outputs": [],
   "source": [
    "df['번호']"
   ]
  },
  {
   "cell_type": "code",
   "execution_count": null,
   "id": "f8686139",
   "metadata": {},
   "outputs": [],
   "source": [
    "# 2가지 이상 출력하려면 [[ ]] 2번 사용해서 출력해야 함.\n",
    "df[['번호','합계']]"
   ]
  }
 ],
 "metadata": {
  "kernelspec": {
   "display_name": "Python 3",
   "language": "python",
   "name": "python3"
  },
  "language_info": {
   "codemirror_mode": {
    "name": "ipython",
    "version": 3
   },
   "file_extension": ".py",
   "mimetype": "text/x-python",
   "name": "python",
   "nbconvert_exporter": "python",
   "pygments_lexer": "ipython3",
   "version": "3.13.2"
  }
 },
 "nbformat": 4,
 "nbformat_minor": 5
}
