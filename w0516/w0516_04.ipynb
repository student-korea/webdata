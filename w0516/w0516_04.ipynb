{
 "cells": [
  {
   "cell_type": "code",
   "execution_count": 1,
   "id": "6e704493",
   "metadata": {},
   "outputs": [],
   "source": [
    "import pandas as pd\n",
    "\n",
    "data = {\n",
    "    '이름':['홍길동','유관순','이순신','강감찬','김구','김유신','홍길자','홍길순'],\n",
    "    '학교':['가산고','가산고','가산고','가산고','가산고','디지털고','디지털고','디지털고'],\n",
    "    '키':[197,184,168,187,188,202,188,190],\n",
    "    '국어':[90,40,80,40,15,80,55,100],\n",
    "    '영어':[85,35,75,60,20,100,65,85],\n",
    "    '수학':[100,50,70,70,10,95,45,90],\n",
    "    '과학':[95,55,80,75,35,85,40,95],\n",
    "    '사회':[85,25,75,80,10,80,35,95],\n",
    "    'SW특기':['Python','Java','Javascript','','','C','PYTHON','C#']\n",
    "}"
   ]
  },
  {
   "cell_type": "code",
   "execution_count": null,
   "id": "9072b29e",
   "metadata": {},
   "outputs": [],
   "source": [
    "df = pd.DataFrame(data,index=['1번','2번','3번','4번','5번','6번','7번','8번'])\n",
    "\n",
    "df.index\n"
   ]
  },
  {
   "cell_type": "code",
   "execution_count": null,
   "id": "c3b68067",
   "metadata": {},
   "outputs": [],
   "source": [
    "df.reset_index()\n",
    "df.reset_index(drop=True,inplace=True)\n",
    "df"
   ]
  },
  {
   "cell_type": "code",
   "execution_count": null,
   "id": "1a9479b9",
   "metadata": {},
   "outputs": [],
   "source": [
    "df.index.name ='번호'\n",
    "df.rename(index='지원번호',inplace=True)"
   ]
  }
 ],
 "metadata": {
  "kernelspec": {
   "display_name": "Python 3",
   "language": "python",
   "name": "python3"
  },
  "language_info": {
   "codemirror_mode": {
    "name": "ipython",
    "version": 3
   },
   "file_extension": ".py",
   "mimetype": "text/x-python",
   "name": "python",
   "nbconvert_exporter": "python",
   "pygments_lexer": "ipython3",
   "version": "3.13.2"
  }
 },
 "nbformat": 4,
 "nbformat_minor": 5
}
