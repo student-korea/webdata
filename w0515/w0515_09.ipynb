{
 "cells": [
  {
   "cell_type": "code",
   "execution_count": null,
   "id": "aed4d177",
   "metadata": {},
   "outputs": [],
   "source": [
    "import requests\n",
    "from bs4 import BeautifulSoup\n",
    "from selenium import webdriver\n",
    "from selenium.webdriver.common.keys import Keys\n",
    "from selenium.webdriver.common.by import By\n",
    "from selenium.webdriver.chrome.service import Service\n",
    "from selenium.webdriver.chrome.options import Options\n",
    "from selenium.webdriver.support.ui import WebDriverWait\n",
    "from selenium.webdriver.support import expected_conditions as EC\n",
    "\n",
    "import csv\n",
    "import time\n",
    "import random\n",
    "from datetime import datetime\n",
    "\n",
    "# 크롬 옵션 설정 - 셀레니움 접근 제한 : 보안접근 해제\n",
    "options = Options()\n",
    "options.add_argument(\"--disable-blink-features=AutomationControlled\")  # 자동화 티 안 나게\n",
    "options.add_argument(\"start-maximized\")\n",
    "options.add_argument(\"user-agent=Mozilla/5.0 (Windows NT 10.0; Win64; x64) AppleWebKit/537.36 (KHTML, like Gecko) Chrome/123.0.0.0 Safari/537.36\")\n",
    "options.add_experimental_option(\"excludeSwitches\", [\"enable-automation\"])\n",
    "options.add_experimental_option('useAutomationExtension', False)"
   ]
  },
  {
   "cell_type": "code",
   "execution_count": null,
   "id": "0e6117e0",
   "metadata": {},
   "outputs": [],
   "source": [
    "\n",
    "# 브라우저 실행\n",
    "browser = webdriver.Chrome(options=options)\n",
    "browser.maximize_window() # 창 최대화"
   ]
  },
  {
   "cell_type": "code",
   "execution_count": null,
   "id": "9bacf408",
   "metadata": {},
   "outputs": [],
   "source": [
    "### 1. 네이버 항공권 접속\n",
    "url = \"https://flight.naver.com/\"\n",
    "browser.get(url)"
   ]
  },
  {
   "cell_type": "code",
   "execution_count": null,
   "id": "3a66e81d",
   "metadata": {},
   "outputs": [],
   "source": [
    "time.sleep(2)\n",
    "# 팝업창 닫기\n",
    "elem = browser.find_element(By.CLASS_NAME,'FullscreenPopup_close')\n",
    "elem.click()"
   ]
  },
  {
   "cell_type": "code",
   "execution_count": null,
   "id": "191273e9",
   "metadata": {},
   "outputs": [],
   "source": [
    "# 3. 출발지 선택\n",
    "browser.find_element(By.XPATH,'//*[@id=\"__next\"]/div/main/div[2]/div/div/div[2]/div[1]/button[1]/b').click()"
   ]
  },
  {
   "cell_type": "code",
   "execution_count": null,
   "id": "ec8a2264",
   "metadata": {},
   "outputs": [],
   "source": [
    "# # 4. 김포선택\n",
    "time.sleep(2)\n",
    "elem = browser.find_element(By.XPATH,'//*[@id=\"__next\"]/div/main/div[8]/div[2]/div/div/ul[1]/li[3]/button')\n",
    "elem.click()\n",
    "time.sleep(2)\n",
    "\n",
    "# # 5. 도착지 선택\n",
    "elem = browser.find_element(By.XPATH,'//*[@id=\"__next\"]/div/main/div[2]/div/div/div[2]/div[1]/button[2]/b')\n",
    "elem.click()\n",
    "time.sleep(2)\n",
    "\n",
    "# # 6. 제주선택\n",
    "browser.find_element(By.XPATH,'//*[@id=\"__next\"]/div/main/div[8]/div[2]/div[2]/div[2]/ul[1]/li[1]/button').click()\n",
    "time.sleep(2)"
   ]
  },
  {
   "cell_type": "code",
   "execution_count": null,
   "id": "e1e6511c",
   "metadata": {},
   "outputs": [],
   "source": [
    "\n",
    "# # 7. 가는날 선택\n",
    "browser.find_element(By.XPATH,'//*[@id=\"__next\"]/div/main/div[2]/div/div/div[2]/div[2]/button[1]').click()\n",
    "time.sleep(1)\n",
    "\n",
    "# 8. 출발날짜 선택\n",
    "time.sleep(1)\n",
    "browser.find_element(By.XPATH,'//*[@id=\"__next\"]/div/main/div[8]/div[2]/div[1]/div[2]/div/div/div[2]/table/tbody/tr[5]/td[7]/button').click()\n",
    "time.sleep(1)\n",
    "# 9. 도착날짜 선택\n",
    "browser.find_element(By.XPATH,'//*[@id=\"__next\"]/div/main/div[8]/div[2]/div[1]/div[2]/div/div/div[2]/table/tbody/tr[5]/td[7]/button/b').click()\n",
    "time.sleep(2)\n",
    "\n",
    "# 10. 항공권 검색 선택\n",
    "browser.find_element(By.XPATH,'//*[@id=\"__next\"]/div/main/div[2]/div/div/div[2]/button').click()"
   ]
  },
  {
   "cell_type": "code",
   "execution_count": null,
   "id": "25b7d7e6",
   "metadata": {},
   "outputs": [],
   "source": [
    "### 스크롤 내리기\n",
    "# 현재 사이트 높이를 가져오는 자바스크립트\n",
    "prev_height = browser.execute_script(\"return document.body.scrollHeight\")\n",
    "\n",
    "# 반복 실행\n",
    "while True:\n",
    "    # 현재 브라우저에서 0에서 현재 높이까지 스크롤 내리기\n",
    "    # 자바스크립트 실행\n",
    "    browser.execute_script(\"window.scrollTo(0,document.body.scrollHeight)\")\n",
    "    time.sleep(2)\n",
    "    # 변동된 현재 문서 높이을 가져오기\n",
    "    curr_height = browser.execute_script(\"return document.body.scrollHeight\")\n",
    "    # 스크롤 높이가 변동이 없을시\n",
    "    if curr_height == prev_height: break \n",
    "    prev_height = curr_height # 현재 높이를 다시 입력해서 스크롤 내리기 재실행\n",
    "\n",
    "print(\"스크롤 내리기 종료\")"
   ]
  },
  {
   "cell_type": "code",
   "execution_count": null,
   "id": "747ebc65",
   "metadata": {},
   "outputs": [],
   "source": [
    "soup = BeautifulSoup(browser.page_source,\"lxml\")\n",
    "\n",
    "## 비행정보 모두 가져오기\n",
    "datas = soup.find_all(\"div\",{\"class\":\"domestic_Flight__8bR_b\"})\n",
    "print(len(datas)) #287\n",
    "datas_list = []   # List정렬\n",
    "for data in datas:\n",
    "    ## 출발시간   \"17:00\" > \"06:15\"\n",
    "    times = data.find_all(\"b\",{\"class\":\"route_time__xWu7a\"})\n",
    "    startTime = times[0].get_text().strip() ## 06:15\n",
    "    \n",
    "    # 기준시간\n",
    "    standard_time = datetime(2025,5,31,17,00,00)\n",
    "\n",
    "    # 검색된 시간 - \"06:15\"\n",
    "    d_time = startTime.split(\":\")\n",
    "    search_time = datetime(2025,5,31,int(d_time[0]),int(d_time[1]),00)\n",
    "\n",
    "    ######    \n",
    "    ## 가격 - 천단위제거\n",
    "    price = data.find(\"i\",{\"class\":\"domestic_num__ShOub\"}).get_text().strip().replace(\",\",\"\")\n",
    "    price = int(price)\n",
    "    price\n",
    "    #### 조건 140000보다 크거나, 시간이 17:00보다 크면 제외대상\n",
    "    if price > 140000 or (standard_time<search_time):\n",
    "        continue\n",
    "    \n",
    "    ## 항공사이름\n",
    "    airline = data.find(\"b\",{\"class\":\"airline_name__0Tw5w\"}).get_text().strip()\n",
    "    print(airline)\n",
    "    times = data.find_all(\"b\",{\"class\":\"route_time__xWu7a\"})\n",
    "    ## 출발시간\n",
    "    startTime = times[0].get_text().strip()\n",
    "    print(startTime)\n",
    "    ## 도착시간\n",
    "    endTime = times[1].get_text().strip()\n",
    "    print(endTime)\n",
    "    ## 가격 - 천단위제거\n",
    "    price = data.find(\"i\",{\"class\":\"domestic_num__ShOub\"}).get_text().strip().replace(\",\",\"\")\n",
    "    price = int(price)\n",
    "    print(price)\n",
    "    print('-'*50)\n",
    "    # datas_list.append( [airline,startTime,endTime,price] )\n",
    "\n",
    "# ### 최저가 LIST정렬\n",
    "# dd_list = sorted(datas_list,key = lambda x:x[3]) # 순차정렬\n",
    "# # dd_list = sorted(d_list,key = lambda x:x[3], reverse=True ) # 역순정렬\n",
    "# print(dd_list)  "
   ]
  }
 ],
 "metadata": {
  "kernelspec": {
   "display_name": "Python 3",
   "language": "python",
   "name": "python3"
  },
  "language_info": {
   "name": "python",
   "version": "3.13.2"
  }
 },
 "nbformat": 4,
 "nbformat_minor": 5
}
