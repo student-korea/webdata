{
 "cells": [
  {
   "cell_type": "markdown",
   "id": "ececa5d9",
   "metadata": {},
   "source": [
    "# 네이버 항공권 웹스크래핑"
   ]
  },
  {
   "cell_type": "markdown",
   "id": "f0499326",
   "metadata": {},
   "source": [
    "설정부분"
   ]
  },
  {
   "cell_type": "code",
   "execution_count": 28,
   "id": "1719d009",
   "metadata": {},
   "outputs": [],
   "source": [
    "import requests\n",
    "from bs4 import BeautifulSoup\n",
    "from selenium import webdriver\n",
    "from selenium.webdriver.common.keys import Keys\n",
    "from selenium.webdriver.common.by import By\n",
    "from selenium.webdriver.chrome.service import Service\n",
    "from selenium.webdriver.chrome.options import Options\n",
    "from selenium.webdriver.support.ui import WebDriverWait\n",
    "from selenium.webdriver.support import expected_conditions as EC\n",
    "\n",
    "import csv\n",
    "import time\n",
    "import random\n",
    "import pyautogui\n",
    "\n",
    "## 메일관련 import\n",
    "import smtplib\n",
    "from email.mime.text import MIMEText\n",
    "from email.mime.multipart import MIMEMultipart\n",
    "from email.mime.base import MIMEBase \n",
    "from email import encoders\n",
    "\n",
    "options = Options()\n",
    "options.add_argument(\"--disable-blink-features=AutomationControlled\")  # 자동화 티 안 나게\n",
    "options.add_argument(\"start-maximized\")\n",
    "options.add_argument(\"user-agent=Mozilla/5.0 (Windows NT 10.0; Win64; x64) AppleWebKit/537.36 (KHTML, like Gecko) Chrome/123.0.0.0 Safari/537.36\")\n",
    "options.add_experimental_option(\"excludeSwitches\", [\"enable-automation\"])\n",
    "options.add_experimental_option('useAutomationExtension', False)"
   ]
  },
  {
   "cell_type": "code",
   "execution_count": 29,
   "id": "51de3513",
   "metadata": {},
   "outputs": [],
   "source": [
    "# 브라우저 실행\n",
    "browser = webdriver.Chrome(options=options)\n",
    "browser.maximize_window() # 창 최대화"
   ]
  },
  {
   "cell_type": "code",
   "execution_count": 30,
   "id": "7d235f9f",
   "metadata": {},
   "outputs": [],
   "source": [
    "url = \"https://www.yeogi.com/\"\n",
    "browser.get(url)"
   ]
  },
  {
   "cell_type": "code",
   "execution_count": 31,
   "id": "f2a83525",
   "metadata": {},
   "outputs": [],
   "source": [
    "browser.find_element(By.XPATH,'//*[@id=\"LARGE_TAB_OVERSEAS_ACCOMMODATION\"]').click()"
   ]
  },
  {
   "cell_type": "code",
   "execution_count": 32,
   "id": "c28dcce3",
   "metadata": {},
   "outputs": [],
   "source": [
    "browser.find_element(By.XPATH,'//*[@id=\"__next\"]/main/section[1]/div/div/div[2]/form/div[1]/div[1]/div/label/div').click()"
   ]
  },
  {
   "cell_type": "code",
   "execution_count": 33,
   "id": "32682c06",
   "metadata": {},
   "outputs": [],
   "source": [
    "elem = browser.find_element(By.NAME,\"search_term\")\n",
    "elem.send_keys(\"오사카\")"
   ]
  },
  {
   "cell_type": "code",
   "execution_count": 34,
   "id": "960fc8e8",
   "metadata": {},
   "outputs": [],
   "source": [
    "browser.find_element(By.XPATH,'//*[@id=\"__next\"]/main/section[1]/div/div/div[2]/form/div[1]/div[2]/ul/li[1]').click()"
   ]
  },
  {
   "cell_type": "code",
   "execution_count": 35,
   "id": "5bc8f58d",
   "metadata": {},
   "outputs": [],
   "source": [
    "browser.find_element(By.XPATH,'//*[@id=\"__next\"]/main/section[1]/div/div/div[2]/form/div[2]/div[2]/div/div[1]/div[1]/button[2]').click()\n",
    "browser.find_element(By.XPATH,'//*[@id=\"__next\"]/main/section[1]/div/div/div[2]/form/div[2]/div[2]/div/div[1]/div[1]/button[2]').click()"
   ]
  },
  {
   "cell_type": "code",
   "execution_count": null,
   "id": "81965d34",
   "metadata": {},
   "outputs": [],
   "source": [
    "browser.find_element(By.XPATH,'//*[@id=\"__next\"]/main/section[1]/div/div/div[2]/form/div[2]/div[2]/div/div[1]/div[2]/div[2]/div/div/ul[2]/li[25]/button').click()\n",
    "browser.find_element(By.XPATH,'//*[@id=\"__next\"]/main/section[1]/div/div/div[2]/form/div[2]/div[2]/div/div[1]/div[2]/div[2]/div/div/ul[2]/li[28]/button').click()"
   ]
  },
  {
   "cell_type": "code",
   "execution_count": 37,
   "id": "81e87a6c",
   "metadata": {},
   "outputs": [],
   "source": [
    "browser.find_element(By.XPATH,'//*[@id=\"__next\"]/main/section[1]/div/div/div[2]/form/div[4]/button').click()"
   ]
  },
  {
   "cell_type": "code",
   "execution_count": 59,
   "id": "ca498540",
   "metadata": {},
   "outputs": [
    {
     "name": "stdout",
     "output_type": "stream",
     "text": [
      "호텔 그레이서리 오사카 난바 8.7 7078 203724\n",
      "하튼 호텔 신사이바시 나가호리도리 8.9 12367 132679\n",
      "호텔 오리엔탈 익스프레스 오사카 신사이바시 8.9 5536 187312\n",
      "그리드스 프리미엄 호텔 오사카 남바 8.8 7197 161946\n",
      "베셀 인 신사이바시 8.9 6031 165849\n",
      "퀸테사 호텔 오사카 신사이바시 코믹 & 북스 8.4 7220 166825\n"
     ]
    }
   ],
   "source": [
    "soup = BeautifulSoup(browser.page_source,\"lxml\")\n",
    "data = soup.find_all(\"a\",{\"class\":\"gc-thumbnail-type-seller-card css-wels0m\"})\n",
    "for da in data:\n",
    "    hotel = da.find(\"h3\",{\"class\":\"gc-thumbnail-type-seller-card-title css-1gxx2ac\"}).get_text()\n",
    "    rating = da.find(\"span\",{\"class\":\"css-9ml4lz\"}).get_text()\n",
    "    recomm = da.find(\"span\",{\"class\":\"css-oj6onp\"}).get_text().replace(\"명 평가\",\"\").replace(\",\",\"\")\n",
    "    price = da.find(\"span\",{\"class\":\"css-5r5920\"}).get_text().replace(\",\",\"\")\n",
    "    if float(rating) <=8.0 or int(recomm) <=5000 or int(price) >=220000:\n",
    "        continue\n",
    "    print(f\"{hotel} {rating} {recomm} {price}\")\n"
   ]
  },
  {
   "cell_type": "code",
   "execution_count": 60,
   "id": "7f9cf957",
   "metadata": {},
   "outputs": [],
   "source": [
    "prev_height = browser.execute_script(\"return document.body.scrollHeight\")\n",
    "while True:\n",
    "\n",
    "    browser.execute_script(\"window.scrollTo(0,document.body.scrollHeight)\")\n",
    "    time.sleep(2)\n",
    "\n",
    "    curr_height = browser.execute_script(\"return document.body.scrollHeight\")\n",
    "\n",
    "    if curr_height == prev_height: break \n",
    "    prev_height = curr_height "
   ]
  },
  {
   "cell_type": "code",
   "execution_count": 61,
   "id": "bdee0b0b",
   "metadata": {},
   "outputs": [],
   "source": [
    "browser.find_element(By.XPATH,'//*[@id=\"__next\"]/div/main/section/div[2]/div[2]/div/div/button[2]').click()"
   ]
  },
  {
   "cell_type": "code",
   "execution_count": 62,
   "id": "7e4b950d",
   "metadata": {},
   "outputs": [
    {
     "name": "stdout",
     "output_type": "stream",
     "text": [
      "소테츠 그랜드 프레사 오사카 난바 8.7 24033 143261\n",
      "오사카 후지야 호텔 8.2 6120 118378\n",
      "호텔 케이한 난바 그란데 8.9 8143 156355\n",
      "하톤 호텔 신사이바시 8.5 12278 158000\n"
     ]
    }
   ],
   "source": [
    "soup = BeautifulSoup(browser.page_source,\"lxml\")\n",
    "data = soup.find_all(\"a\",{\"class\":\"gc-thumbnail-type-seller-card css-wels0m\"})\n",
    "for da in data:\n",
    "    hotel = da.find(\"h3\",{\"class\":\"gc-thumbnail-type-seller-card-title css-1gxx2ac\"}).get_text()\n",
    "    rating = da.find(\"span\",{\"class\":\"css-9ml4lz\"}).get_text()\n",
    "    recomm = da.find(\"span\",{\"class\":\"css-oj6onp\"}).get_text().replace(\"명 평가\",\"\").replace(\",\",\"\")\n",
    "    price = da.find(\"span\",{\"class\":\"css-5r5920\"}).get_text().replace(\",\",\"\")\n",
    "    if float(rating) <=8.0 or int(recomm) <=5000 or int(price) >=220000:\n",
    "        continue\n",
    "    print(f\"{hotel} {rating} {recomm} {price}\")\n"
   ]
  }
 ],
 "metadata": {
  "kernelspec": {
   "display_name": "Python 3",
   "language": "python",
   "name": "python3"
  },
  "language_info": {
   "codemirror_mode": {
    "name": "ipython",
    "version": 3
   },
   "file_extension": ".py",
   "mimetype": "text/x-python",
   "name": "python",
   "nbconvert_exporter": "python",
   "pygments_lexer": "ipython3",
   "version": "3.13.2"
  }
 },
 "nbformat": 4,
 "nbformat_minor": 5
}
